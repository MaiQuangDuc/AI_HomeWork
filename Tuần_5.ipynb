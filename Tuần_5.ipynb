{
  "nbformat": 4,
  "nbformat_minor": 0,
  "metadata": {
    "colab": {
      "provenance": []
    },
    "kernelspec": {
      "name": "python3",
      "display_name": "Python 3"
    },
    "language_info": {
      "name": "python"
    }
  },
  "cells": [
    {
      "cell_type": "code",
      "execution_count": null,
      "metadata": {
        "colab": {
          "base_uri": "https://localhost:8080/"
        },
        "id": "XIHu6YD11YKq",
        "outputId": "a3c149a2-e912-4f59-8177-acc4f863d218"
      },
      "outputs": [
        {
          "output_type": "stream",
          "name": "stdout",
          "text": [
            "Looking in indexes: https://pypi.org/simple, https://us-python.pkg.dev/colab-wheels/public/simple/\n",
            "Requirement already satisfied: keras in /usr/local/lib/python3.7/dist-packages (2.9.0)\n"
          ]
        }
      ],
      "source": [
        "pip install keras\n"
      ]
    },
    {
      "cell_type": "code",
      "source": [
        "from keras.datasets import mnist\n",
        "(train_images, train_labels) , (test_images, test_labels) = mnist.load_data()\n",
        "train_images.shape\n",
        "train_labels.shape \n",
        "test_images.shape\n",
        "test_labels.shape"
      ],
      "metadata": {
        "colab": {
          "base_uri": "https://localhost:8080/"
        },
        "id": "YoeesS1L1xPx",
        "outputId": "2f9f0798-d29d-4676-878a-d0d47148d8c8"
      },
      "execution_count": null,
      "outputs": [
        {
          "output_type": "execute_result",
          "data": {
            "text/plain": [
              "(10000,)"
            ]
          },
          "metadata": {},
          "execution_count": 33
        }
      ]
    },
    {
      "cell_type": "code",
      "source": [
        "import matplotlib.pyplot as plt\n",
        "plt.imshow(train_images[3])\n",
        "plt.show()\n",
        "print(train_labels[3])"
      ],
      "metadata": {
        "colab": {
          "base_uri": "https://localhost:8080/",
          "height": 282
        },
        "id": "s4ScX1fQ2qoJ",
        "outputId": "474daa0c-5aa2-4605-a9e4-eb2210bad295"
      },
      "execution_count": null,
      "outputs": [
        {
          "output_type": "display_data",
          "data": {
            "text/plain": [
              "<Figure size 432x288 with 1 Axes>"
            ],
            "image/png": "[encoded data removed]"
          },
          "metadata": {
            "needs_background": "light"
          }
        },
        {
          "output_type": "stream",
          "name": "stdout",
          "text": [
            "1\n"
          ]
        }
      ]
    },
    {
      "cell_type": "code",
      "source": [
        "from keras import models\n",
        "from keras import layers\n",
        "model = models.Sequential()\n",
        "model"
      ],
      "metadata": {
        "colab": {
          "base_uri": "https://localhost:8080/"
        },
        "id": "-L6hqaBK5PvC",
        "outputId": "cea46b2c-7479-4ca6-da51-a1df89c6590a"
      },
      "execution_count": null,
      "outputs": [
        {
          "output_type": "execute_result",
          "data": {
            "text/plain": [
              "<keras.engine.sequential.Sequential at 0x7f1e783cc5d0>"
            ]
          },
          "metadata": {},
          "execution_count": 55
        }
      ]
    },
    {
      "cell_type": "code",
      "source": [
        "from keras.layers.serialization import activation\n",
        "from keras import models\n",
        "from keras import layers\n",
        "model.add(layers.Dense(512,activation='relu',input_shape=(28*28,)))\n",
        "model.add(layers.Dense(10,activation='softmax'))#input của lớp này bằng tín hiệu ra output của lớp trước là 512 layer.Dense(output,)\n",
        "model.summary()"
      ],
      "metadata": {
        "colab": {
          "base_uri": "https://localhost:8080/"
        },
        "id": "z0-1jRSd63tB",
        "outputId": "129109f5-70e1-4445-adf3-09b64e675785"
      },
      "execution_count": null,
      "outputs": [
        {
          "output_type": "stream",
          "name": "stdout",
          "text": [
            "Model: \"sequential_1\"\n",
            "_________________________________________________________________\n",
            " Layer (type)                Output Shape              Param #   \n",
            "=================================================================\n",
            " dense_7 (Dense)             (None, 512)               401920    \n",
            "                                                                 \n",
            " dense_8 (Dense)             (None, 10)                5130      \n",
            "                                                                 \n",
            "=================================================================\n",
            "Total params: 407,050\n",
            "Trainable params: 407,050\n",
            "Non-trainable params: 0\n",
            "_________________________________________________________________\n"
          ]
        }
      ]
    },
    {
      "cell_type": "code",
      "source": [
        "train_images = train_images.reshape((60000,28*28))     #làm input\n",
        "train_images = train_images.astype('float32')/255\n",
        "test_images = test_images.reshape((10000,28*28))\n",
        "test_images = test_images.astype('float32')/255\n",
        "train_images.shape\n",
        "test_images.shape"
      ],
      "metadata": {
        "colab": {
          "base_uri": "https://localhost:8080/"
        },
        "id": "sqe17lnv9Q65",
        "outputId": "1afa38ca-f778-4fc0-e646-37770d38ac3d"
      },
      "execution_count": null,
      "outputs": [
        {
          "output_type": "execute_result",
          "data": {
            "text/plain": [
              "(10000, 784)"
            ]
          },
          "metadata": {},
          "execution_count": 57
        }
      ]
    },
    {
      "cell_type": "code",
      "source": [
        "from keras.utils import to_categorical #mã hóa\n",
        "train_labels = to_categorical(train_labels)\n",
        "test_labels = to_categorical(test_labels)\n",
        "train_labels.shape\n",
        "test_labels.shape"
      ],
      "metadata": {
        "colab": {
          "base_uri": "https://localhost:8080/"
        },
        "id": "eLFJGy17-ewG",
        "outputId": "79c03f4f-a473-4825-f756-b0678de77eae"
      },
      "execution_count": null,
      "outputs": [
        {
          "output_type": "execute_result",
          "data": {
            "text/plain": [
              "(10000, 10)"
            ]
          },
          "metadata": {},
          "execution_count": 58
        }
      ]
    },
    {
      "cell_type": "code",
      "source": [
        "#phiên dịch\n",
        "model.compile(optimizer='rmsprop',\n",
        "              loss='categorical_crossentropy',\n",
        "              metrics=['accuracy'])\n",
        "model.fit(train_images, train_labels, epochs=100, batch_size=128)\n"
      ],
      "metadata": {
        "colab": {
          "base_uri": "https://localhost:8080/"
        },
        "id": "1oP3U-VtAXh2",
        "outputId": "a0403344-ec40-493b-9352-63eaf9d498b4"
      },
      "execution_count": null,
      "outputs": [
        {
          "output_type": "stream",
          "name": "stdout",
          "text": [
            "Epoch 1/100\n",
            "469/469 [==============================] - 7s 11ms/step - loss: 0.2606 - accuracy: 0.9240\n",
            "Epoch 2/100\n",
            "469/469 [==============================] - 5s 10ms/step - loss: 0.1054 - accuracy: 0.9684\n",
            "Epoch 3/100\n",
            "469/469 [==============================] - 5s 10ms/step - loss: 0.0693 - accuracy: 0.9796\n",
            "Epoch 4/100\n",
            "469/469 [==============================] - 5s 10ms/step - loss: 0.0502 - accuracy: 0.9848\n",
            "Epoch 5/100\n",
            "469/469 [==============================] - 5s 11ms/step - loss: 0.0379 - accuracy: 0.9889\n",
            "Epoch 6/100\n",
            "469/469 [==============================] - 5s 10ms/step - loss: 0.0298 - accuracy: 0.9907\n",
            "Epoch 7/100\n",
            "469/469 [==============================] - 5s 10ms/step - loss: 0.0230 - accuracy: 0.9932\n",
            "Epoch 8/100\n",
            "469/469 [==============================] - 5s 10ms/step - loss: 0.0172 - accuracy: 0.9952\n",
            "Epoch 9/100\n",
            "469/469 [==============================] - 5s 10ms/step - loss: 0.0130 - accuracy: 0.9960\n",
            "Epoch 10/100\n",
            "469/469 [==============================] - 5s 10ms/step - loss: 0.0102 - accuracy: 0.9972\n",
            "Epoch 11/100\n",
            "469/469 [==============================] - 5s 11ms/step - loss: 0.0079 - accuracy: 0.9977\n",
            "Epoch 12/100\n",
            "469/469 [==============================] - 6s 12ms/step - loss: 0.0059 - accuracy: 0.9983\n",
            "Epoch 13/100\n",
            "469/469 [==============================] - 5s 10ms/step - loss: 0.0048 - accuracy: 0.9988\n",
            "Epoch 14/100\n",
            "469/469 [==============================] - 5s 10ms/step - loss: 0.0038 - accuracy: 0.9989\n",
            "Epoch 15/100\n",
            "469/469 [==============================] - 5s 10ms/step - loss: 0.0027 - accuracy: 0.9992\n",
            "Epoch 16/100\n",
            "469/469 [==============================] - 5s 11ms/step - loss: 0.0025 - accuracy: 0.9992\n",
            "Epoch 17/100\n",
            "469/469 [==============================] - 5s 10ms/step - loss: 0.0018 - accuracy: 0.9996\n",
            "Epoch 18/100\n",
            "469/469 [==============================] - 5s 10ms/step - loss: 0.0015 - accuracy: 0.9996\n",
            "Epoch 19/100\n",
            "469/469 [==============================] - 6s 13ms/step - loss: 0.0011 - accuracy: 0.9997\n",
            "Epoch 20/100\n",
            "469/469 [==============================] - 5s 10ms/step - loss: 9.9055e-04 - accuracy: 0.9997\n",
            "Epoch 21/100\n",
            "469/469 [==============================] - 5s 10ms/step - loss: 7.2545e-04 - accuracy: 0.9998\n",
            "Epoch 22/100\n",
            "469/469 [==============================] - 5s 10ms/step - loss: 8.8340e-04 - accuracy: 0.9997\n",
            "Epoch 23/100\n",
            "469/469 [==============================] - 5s 10ms/step - loss: 4.0594e-04 - accuracy: 0.9999\n",
            "Epoch 24/100\n",
            "469/469 [==============================] - 5s 10ms/step - loss: 5.8462e-04 - accuracy: 0.9999\n",
            "Epoch 25/100\n",
            "469/469 [==============================] - 5s 10ms/step - loss: 3.2540e-04 - accuracy: 0.9999\n",
            "Epoch 26/100\n",
            "469/469 [==============================] - 5s 11ms/step - loss: 3.0489e-04 - accuracy: 0.9999\n",
            "Epoch 27/100\n",
            "469/469 [==============================] - 5s 10ms/step - loss: 3.2257e-04 - accuracy: 0.9999\n",
            "Epoch 28/100\n",
            "469/469 [==============================] - 5s 11ms/step - loss: 1.0953e-04 - accuracy: 1.0000\n",
            "Epoch 29/100\n",
            "469/469 [==============================] - 5s 10ms/step - loss: 2.2783e-04 - accuracy: 0.9999\n",
            "Epoch 30/100\n",
            "469/469 [==============================] - 5s 10ms/step - loss: 1.3151e-04 - accuracy: 0.9999\n",
            "Epoch 31/100\n",
            "469/469 [==============================] - 5s 10ms/step - loss: 1.5206e-04 - accuracy: 1.0000\n",
            "Epoch 32/100\n",
            "469/469 [==============================] - 5s 11ms/step - loss: 7.9572e-05 - accuracy: 1.0000\n",
            "Epoch 33/100\n",
            "469/469 [==============================] - 5s 11ms/step - loss: 1.1359e-04 - accuracy: 0.9999\n",
            "Epoch 34/100\n",
            "469/469 [==============================] - 5s 10ms/step - loss: 4.9014e-05 - accuracy: 1.0000\n",
            "Epoch 35/100\n",
            "469/469 [==============================] - 5s 11ms/step - loss: 7.1536e-05 - accuracy: 1.0000\n",
            "Epoch 36/100\n",
            "469/469 [==============================] - 5s 10ms/step - loss: 3.2255e-05 - accuracy: 1.0000\n",
            "Epoch 37/100\n",
            "469/469 [==============================] - 5s 11ms/step - loss: 4.3297e-05 - accuracy: 1.0000\n",
            "Epoch 38/100\n",
            "469/469 [==============================] - 5s 11ms/step - loss: 2.0182e-04 - accuracy: 1.0000\n",
            "Epoch 39/100\n",
            "469/469 [==============================] - 5s 10ms/step - loss: 3.2609e-05 - accuracy: 1.0000\n",
            "Epoch 40/100\n",
            "469/469 [==============================] - 5s 11ms/step - loss: 1.3693e-05 - accuracy: 1.0000\n",
            "Epoch 41/100\n",
            "469/469 [==============================] - 5s 10ms/step - loss: 6.6095e-06 - accuracy: 1.0000\n",
            "Epoch 42/100\n",
            "469/469 [==============================] - 5s 10ms/step - loss: 5.1472e-06 - accuracy: 1.0000\n",
            "Epoch 43/100\n",
            "469/469 [==============================] - 5s 10ms/step - loss: 7.6298e-07 - accuracy: 1.0000\n",
            "Epoch 44/100\n",
            "469/469 [==============================] - 5s 10ms/step - loss: 6.8123e-05 - accuracy: 1.0000\n",
            "Epoch 45/100\n",
            "469/469 [==============================] - 5s 11ms/step - loss: 5.0407e-08 - accuracy: 1.0000\n",
            "Epoch 46/100\n",
            "469/469 [==============================] - 5s 10ms/step - loss: 3.6213e-08 - accuracy: 1.0000\n",
            "Epoch 47/100\n",
            "469/469 [==============================] - 5s 11ms/step - loss: 2.0281e-08 - accuracy: 1.0000\n",
            "Epoch 48/100\n",
            "469/469 [==============================] - 5s 11ms/step - loss: 1.7309e-08 - accuracy: 1.0000\n",
            "Epoch 49/100\n",
            "469/469 [==============================] - 5s 10ms/step - loss: 1.5732e-08 - accuracy: 1.0000\n",
            "Epoch 50/100\n",
            "469/469 [==============================] - 5s 10ms/step - loss: 1.4609e-08 - accuracy: 1.0000\n",
            "Epoch 51/100\n",
            "469/469 [==============================] - 5s 10ms/step - loss: 1.3487e-08 - accuracy: 1.0000\n",
            "Epoch 52/100\n",
            "469/469 [==============================] - 5s 11ms/step - loss: 1.2775e-08 - accuracy: 1.0000\n",
            "Epoch 53/100\n",
            "469/469 [==============================] - 5s 10ms/step - loss: 1.1981e-08 - accuracy: 1.0000\n",
            "Epoch 54/100\n",
            "469/469 [==============================] - 5s 10ms/step - loss: 1.1301e-08 - accuracy: 1.0000\n",
            "Epoch 55/100\n",
            "469/469 [==============================] - 5s 10ms/step - loss: 1.0755e-08 - accuracy: 1.0000\n",
            "Epoch 56/100\n",
            "469/469 [==============================] - 5s 11ms/step - loss: 1.0254e-08 - accuracy: 1.0000\n",
            "Epoch 57/100\n",
            "469/469 [==============================] - 6s 12ms/step - loss: 9.8526e-09 - accuracy: 1.0000\n",
            "Epoch 58/100\n",
            "469/469 [==============================] - 5s 11ms/step - loss: 9.4831e-09 - accuracy: 1.0000\n",
            "Epoch 59/100\n",
            "469/469 [==============================] - 5s 11ms/step - loss: 9.1672e-09 - accuracy: 1.0000\n",
            "Epoch 60/100\n",
            "469/469 [==============================] - 5s 10ms/step - loss: 8.8592e-09 - accuracy: 1.0000\n",
            "Epoch 61/100\n",
            "469/469 [==============================] - 5s 10ms/step - loss: 8.5016e-09 - accuracy: 1.0000\n",
            "Epoch 62/100\n",
            "469/469 [==============================] - 5s 10ms/step - loss: 8.2453e-09 - accuracy: 1.0000\n",
            "Epoch 63/100\n",
            "469/469 [==============================] - 5s 10ms/step - loss: 8.0725e-09 - accuracy: 1.0000\n",
            "Epoch 64/100\n",
            "469/469 [==============================] - 5s 11ms/step - loss: 7.7963e-09 - accuracy: 1.0000\n",
            "Epoch 65/100\n",
            "469/469 [==============================] - 5s 11ms/step - loss: 7.5618e-09 - accuracy: 1.0000\n",
            "Epoch 66/100\n",
            "469/469 [==============================] - 5s 11ms/step - loss: 7.3711e-09 - accuracy: 1.0000\n",
            "Epoch 67/100\n",
            "469/469 [==============================] - 5s 11ms/step - loss: 7.1943e-09 - accuracy: 1.0000\n",
            "Epoch 68/100\n",
            "469/469 [==============================] - 5s 11ms/step - loss: 7.0254e-09 - accuracy: 1.0000\n",
            "Epoch 69/100\n",
            "469/469 [==============================] - 5s 10ms/step - loss: 6.8029e-09 - accuracy: 1.0000\n",
            "Epoch 70/100\n",
            "469/469 [==============================] - 5s 10ms/step - loss: 6.7532e-09 - accuracy: 1.0000\n",
            "Epoch 71/100\n",
            "469/469 [==============================] - 5s 10ms/step - loss: 6.5863e-09 - accuracy: 1.0000\n",
            "Epoch 72/100\n",
            "469/469 [==============================] - 5s 10ms/step - loss: 6.4512e-09 - accuracy: 1.0000\n",
            "Epoch 73/100\n",
            "469/469 [==============================] - 5s 10ms/step - loss: 6.3539e-09 - accuracy: 1.0000\n",
            "Epoch 74/100\n",
            "469/469 [==============================] - 5s 11ms/step - loss: 6.2545e-09 - accuracy: 1.0000\n",
            "Epoch 75/100\n",
            "469/469 [==============================] - 5s 11ms/step - loss: 6.1075e-09 - accuracy: 1.0000\n",
            "Epoch 76/100\n",
            "469/469 [==============================] - 5s 11ms/step - loss: 6.0181e-09 - accuracy: 1.0000\n",
            "Epoch 77/100\n",
            "469/469 [==============================] - 5s 11ms/step - loss: 5.9505e-09 - accuracy: 1.0000\n",
            "Epoch 78/100\n",
            "469/469 [==============================] - 5s 11ms/step - loss: 5.8095e-09 - accuracy: 1.0000\n",
            "Epoch 79/100\n",
            "469/469 [==============================] - 5s 11ms/step - loss: 5.7558e-09 - accuracy: 1.0000\n",
            "Epoch 80/100\n",
            "469/469 [==============================] - 5s 11ms/step - loss: 5.6446e-09 - accuracy: 1.0000\n",
            "Epoch 81/100\n",
            "469/469 [==============================] - 5s 11ms/step - loss: 5.6148e-09 - accuracy: 1.0000\n",
            "Epoch 82/100\n",
            "469/469 [==============================] - 5s 10ms/step - loss: 5.5353e-09 - accuracy: 1.0000\n",
            "Epoch 83/100\n",
            "469/469 [==============================] - 5s 11ms/step - loss: 5.4399e-09 - accuracy: 1.0000\n",
            "Epoch 84/100\n",
            "469/469 [==============================] - 5s 11ms/step - loss: 5.3565e-09 - accuracy: 1.0000\n",
            "Epoch 85/100\n",
            "469/469 [==============================] - 5s 11ms/step - loss: 5.3565e-09 - accuracy: 1.0000\n",
            "Epoch 86/100\n",
            "469/469 [==============================] - 5s 11ms/step - loss: 5.2849e-09 - accuracy: 1.0000\n",
            "Epoch 87/100\n",
            "469/469 [==============================] - 5s 11ms/step - loss: 5.1896e-09 - accuracy: 1.0000\n",
            "Epoch 88/100\n",
            "469/469 [==============================] - 5s 11ms/step - loss: 5.0843e-09 - accuracy: 1.0000\n",
            "Epoch 89/100\n",
            "469/469 [==============================] - 5s 11ms/step - loss: 5.0823e-09 - accuracy: 1.0000\n",
            "Epoch 90/100\n",
            "469/469 [==============================] - 5s 11ms/step - loss: 4.9690e-09 - accuracy: 1.0000\n",
            "Epoch 91/100\n",
            "469/469 [==============================] - 5s 11ms/step - loss: 4.9333e-09 - accuracy: 1.0000\n",
            "Epoch 92/100\n",
            "469/469 [==============================] - 5s 10ms/step - loss: 4.8836e-09 - accuracy: 1.0000\n",
            "Epoch 93/100\n",
            "469/469 [==============================] - 5s 11ms/step - loss: 4.9015e-09 - accuracy: 1.0000\n",
            "Epoch 94/100\n",
            "469/469 [==============================] - 5s 11ms/step - loss: 4.7962e-09 - accuracy: 1.0000\n",
            "Epoch 95/100\n",
            "469/469 [==============================] - 5s 10ms/step - loss: 4.8081e-09 - accuracy: 1.0000\n",
            "Epoch 96/100\n",
            "469/469 [==============================] - 5s 11ms/step - loss: 4.7922e-09 - accuracy: 1.0000\n",
            "Epoch 97/100\n",
            "469/469 [==============================] - 5s 11ms/step - loss: 4.7525e-09 - accuracy: 1.0000\n",
            "Epoch 98/100\n",
            "469/469 [==============================] - 5s 11ms/step - loss: 4.6829e-09 - accuracy: 1.0000\n",
            "Epoch 99/100\n",
            "469/469 [==============================] - 5s 11ms/step - loss: 4.6829e-09 - accuracy: 1.0000\n",
            "Epoch 100/100\n",
            "469/469 [==============================] - 5s 11ms/step - loss: 4.6194e-09 - accuracy: 1.0000\n"
          ]
        },
        {
          "output_type": "execute_result",
          "data": {
            "text/plain": [
              "<keras.callbacks.History at 0x7f1e7a5aa250>"
            ]
          },
          "metadata": {},
          "execution_count": 59
        }
      ]
    },
    {
      "cell_type": "code",
      "source": [
        "test_loss, test_ace = model.evaluate(test_images, test_labels)\n",
        "print('Test accuracy', test_ace)"
      ],
      "metadata": {
        "colab": {
          "base_uri": "https://localhost:8080/"
        },
        "id": "lGS9IK9hFMfd",
        "outputId": "81f68e7f-f71d-4b58-9d99-f4bfe4b36700"
      },
      "execution_count": null,
      "outputs": [
        {
          "output_type": "stream",
          "name": "stdout",
          "text": [
            "313/313 [==============================] - 1s 3ms/step - loss: 0.1585 - accuracy: 0.9833\n",
            "Test accuracy 0.983299970626831\n"
          ]
        }
      ]
    },
    {
      "cell_type": "code",
      "source": [
        "from keras.datasets import fashion_mnist\n",
        "(x_train, y_train),(x_test,y_test) = fashion_mnist.load_data()"
      ],
      "metadata": {
        "id": "KoYbTQfqGlgD"
      },
      "execution_count": null,
      "outputs": []
    },
    {
      "cell_type": "code",
      "source": [
        "x_train.shape"
      ],
      "metadata": {
        "colab": {
          "base_uri": "https://localhost:8080/"
        },
        "id": "OS1orMWjHO7n",
        "outputId": "b1342ef6-1324-438d-c778-7135bf064dcf"
      },
      "execution_count": null,
      "outputs": [
        {
          "output_type": "execute_result",
          "data": {
            "text/plain": [
              "(60000, 28, 28)"
            ]
          },
          "metadata": {},
          "execution_count": 54
        }
      ]
    },
    {
      "cell_type": "code",
      "source": [
        "y_train.shape"
      ],
      "metadata": {
        "colab": {
          "base_uri": "https://localhost:8080/"
        },
        "id": "25IILDAhHSwT",
        "outputId": "963ac446-090f-46b0-d327-2ca8f8e37b67"
      },
      "execution_count": null,
      "outputs": [
        {
          "output_type": "execute_result",
          "data": {
            "text/plain": [
              "(60000,)"
            ]
          },
          "metadata": {},
          "execution_count": 55
        }
      ]
    },
    {
      "cell_type": "code",
      "source": [
        "x_test.shape"
      ],
      "metadata": {
        "colab": {
          "base_uri": "https://localhost:8080/"
        },
        "id": "VicbCxenHVc-",
        "outputId": "2503d574-c5fa-4b37-ed0f-93a73d671166"
      },
      "execution_count": null,
      "outputs": [
        {
          "output_type": "execute_result",
          "data": {
            "text/plain": [
              "(10000, 28, 28)"
            ]
          },
          "metadata": {},
          "execution_count": 56
        }
      ]
    },
    {
      "cell_type": "code",
      "source": [
        "y_test.shape"
      ],
      "metadata": {
        "colab": {
          "base_uri": "https://localhost:8080/"
        },
        "id": "48BdfyTyHav8",
        "outputId": "35e85a4f-42d7-4ec5-e78c-d253838e0bd8"
      },
      "execution_count": null,
      "outputs": [
        {
          "output_type": "execute_result",
          "data": {
            "text/plain": [
              "(10000,)"
            ]
          },
          "metadata": {},
          "execution_count": 57
        }
      ]
    },
    {
      "cell_type": "code",
      "source": [
        "class_names = ['T-shirt/Top','Trousers','Pullover','Dress','Coat','Sandal','Shirt','Sneaker','Bag','Ankle boot']"
      ],
      "metadata": {
        "id": "QsHh1nBqH9ez"
      },
      "execution_count": null,
      "outputs": []
    },
    {
      "cell_type": "code",
      "source": [
        "import matplotlib.pyplot as plt\n",
        "plt.imshow(x_train[10])\n",
        "plt.show()\n",
        "print(class_names[y_train[10]])"
      ],
      "metadata": {
        "colab": {
          "base_uri": "https://localhost:8080/",
          "height": 282
        },
        "id": "5M6ME5CVJbFL",
        "outputId": "98399ac8-0133-4b99-cd85-11497b1648fa"
      },
      "execution_count": null,
      "outputs": [
        {
          "output_type": "display_data",
          "data": {
            "text/plain": [
              "<Figure size 432x288 with 1 Axes>"
            ],
            "image/png": "[encoded data removed]"
          },
          "metadata": {
            "needs_background": "light"
          }
        },
        {
          "output_type": "stream",
          "name": "stdout",
          "text": [
            "T-shirt/Top\n"
          ]
        }
      ]
    },
    {
      "cell_type": "code",
      "source": [
        "from keras import models\n",
        "from keras import layers\n",
        "model = models.Sequential()\n",
        "model"
      ],
      "metadata": {
        "colab": {
          "base_uri": "https://localhost:8080/"
        },
        "id": "TKHf489TLDYj",
        "outputId": "919e960c-896b-496b-8ae5-63a09249bff9"
      },
      "execution_count": null,
      "outputs": [
        {
          "output_type": "execute_result",
          "data": {
            "text/plain": [
              "<keras.engine.sequential.Sequential at 0x7f111193a610>"
            ]
          },
          "metadata": {},
          "execution_count": 60
        }
      ]
    },
    {
      "cell_type": "code",
      "source": [
        "from keras.layers.serialization import activation\n",
        "from keras import models\n",
        "from keras import layers\n",
        "model.add(layers.Dense(512,activation='relu',input_shape=(28*28,)))\n",
        "model.add(layers.Dense(10,activation='softmax'))#input của lớp này bằng tín hiệu ra output của lớp trước là 512 layer.Dense(output,)\n",
        "model.summary()"
      ],
      "metadata": {
        "colab": {
          "base_uri": "https://localhost:8080/"
        },
        "id": "G5pQ3phCLRVa",
        "outputId": "e9f933f6-b86e-4048-a33a-1a757ddaf81c"
      },
      "execution_count": null,
      "outputs": [
        {
          "output_type": "stream",
          "name": "stdout",
          "text": [
            "Model: \"sequential_1\"\n",
            "_________________________________________________________________\n",
            " Layer (type)                Output Shape              Param #   \n",
            "=================================================================\n",
            " dense_4 (Dense)             (None, 512)               401920    \n",
            "                                                                 \n",
            " dense_5 (Dense)             (None, 10)                5130      \n",
            "                                                                 \n",
            "=================================================================\n",
            "Total params: 407,050\n",
            "Trainable params: 407,050\n",
            "Non-trainable params: 0\n",
            "_________________________________________________________________\n"
          ]
        }
      ]
    },
    {
      "cell_type": "code",
      "source": [
        "from keras.utils import to_categorical #mã hóa\n",
        "y_train = to_categorical(y_train)\n",
        "y_test = to_categorical(y_test)\n",
        "y_train.shape\n",
        "y_test.shape"
      ],
      "metadata": {
        "colab": {
          "base_uri": "https://localhost:8080/"
        },
        "id": "2DJaw7l6Lg4b",
        "outputId": "077cbd9f-4167-42ed-a4ae-b9f33473c3d7"
      },
      "execution_count": null,
      "outputs": [
        {
          "output_type": "execute_result",
          "data": {
            "text/plain": [
              "(10000, 10)"
            ]
          },
          "metadata": {},
          "execution_count": 62
        }
      ]
    },
    {
      "cell_type": "code",
      "source": [
        "x_train = x_train.reshape((60000,28*28))     #làm input\n",
        "x_train = x_train.astype('float32')/255\n",
        "x_test = x_test.reshape((10000,28*28))\n",
        "x_test = x_test.astype('float32')/255\n",
        "x_train.shape\n",
        "x_test.shape"
      ],
      "metadata": {
        "colab": {
          "base_uri": "https://localhost:8080/"
        },
        "id": "MGD1V7JlLUjB",
        "outputId": "7b0cc47c-e762-4a6e-c829-38edc759e91c"
      },
      "execution_count": null,
      "outputs": [
        {
          "output_type": "execute_result",
          "data": {
            "text/plain": [
              "(10000, 784)"
            ]
          },
          "metadata": {},
          "execution_count": 63
        }
      ]
    },
    {
      "cell_type": "code",
      "source": [
        "model.compile(optimizer='rmsprop',\n",
        "              loss='categorical_crossentropy',\n",
        "              metrics=['accuracy'])\n",
        "model.fit(x_train, y_train, epochs=100, batch_size=128)\n"
      ],
      "metadata": {
        "colab": {
          "base_uri": "https://localhost:8080/"
        },
        "id": "hgZmegNpNAWx",
        "outputId": "946f49c3-7625-4440-b076-9ebf20d3e47f"
      },
      "execution_count": null,
      "outputs": [
        {
          "output_type": "stream",
          "name": "stdout",
          "text": [
            "Epoch 1/100\n",
            "469/469 [==============================] - 7s 13ms/step - loss: 0.5519 - accuracy: 0.8030\n",
            "Epoch 2/100\n",
            "469/469 [==============================] - 5s 11ms/step - loss: 0.3806 - accuracy: 0.8601\n",
            "Epoch 3/100\n",
            "469/469 [==============================] - 5s 11ms/step - loss: 0.3369 - accuracy: 0.8766\n",
            "Epoch 4/100\n",
            "469/469 [==============================] - 5s 11ms/step - loss: 0.3115 - accuracy: 0.8851\n",
            "Epoch 5/100\n",
            "469/469 [==============================] - 5s 11ms/step - loss: 0.2922 - accuracy: 0.8920\n",
            "Epoch 6/100\n",
            "469/469 [==============================] - 5s 11ms/step - loss: 0.2766 - accuracy: 0.8981\n",
            "Epoch 7/100\n",
            "469/469 [==============================] - 6s 12ms/step - loss: 0.2646 - accuracy: 0.9024\n",
            "Epoch 8/100\n",
            "469/469 [==============================] - 7s 14ms/step - loss: 0.2535 - accuracy: 0.9064\n",
            "Epoch 9/100\n",
            "469/469 [==============================] - 5s 11ms/step - loss: 0.2429 - accuracy: 0.9103\n",
            "Epoch 10/100\n",
            "469/469 [==============================] - 9s 18ms/step - loss: 0.2347 - accuracy: 0.9126\n",
            "Epoch 11/100\n",
            "469/469 [==============================] - 7s 14ms/step - loss: 0.2275 - accuracy: 0.9161\n",
            "Epoch 12/100\n",
            "469/469 [==============================] - 5s 11ms/step - loss: 0.2179 - accuracy: 0.9195\n",
            "Epoch 13/100\n",
            "469/469 [==============================] - 5s 11ms/step - loss: 0.2103 - accuracy: 0.9225\n",
            "Epoch 14/100\n",
            "469/469 [==============================] - 5s 11ms/step - loss: 0.2017 - accuracy: 0.9251\n",
            "Epoch 15/100\n",
            "469/469 [==============================] - 5s 11ms/step - loss: 0.1993 - accuracy: 0.9270\n",
            "Epoch 16/100\n",
            "469/469 [==============================] - 5s 11ms/step - loss: 0.1918 - accuracy: 0.9295\n",
            "Epoch 17/100\n",
            "469/469 [==============================] - 6s 12ms/step - loss: 0.1885 - accuracy: 0.9298\n",
            "Epoch 18/100\n",
            "469/469 [==============================] - 5s 11ms/step - loss: 0.1822 - accuracy: 0.9332\n",
            "Epoch 19/100\n",
            "469/469 [==============================] - 6s 13ms/step - loss: 0.1790 - accuracy: 0.9337\n",
            "Epoch 20/100\n",
            "469/469 [==============================] - 5s 11ms/step - loss: 0.1730 - accuracy: 0.9366\n",
            "Epoch 21/100\n",
            "469/469 [==============================] - 5s 11ms/step - loss: 0.1678 - accuracy: 0.9381\n",
            "Epoch 22/100\n",
            "469/469 [==============================] - 5s 11ms/step - loss: 0.1641 - accuracy: 0.9403\n",
            "Epoch 23/100\n",
            "469/469 [==============================] - 5s 11ms/step - loss: 0.1606 - accuracy: 0.9412\n",
            "Epoch 24/100\n",
            "469/469 [==============================] - 5s 11ms/step - loss: 0.1567 - accuracy: 0.9435\n",
            "Epoch 25/100\n",
            "469/469 [==============================] - 5s 11ms/step - loss: 0.1510 - accuracy: 0.9449\n",
            "Epoch 26/100\n",
            "469/469 [==============================] - 6s 12ms/step - loss: 0.1496 - accuracy: 0.9448\n",
            "Epoch 27/100\n",
            "469/469 [==============================] - 6s 13ms/step - loss: 0.1428 - accuracy: 0.9480\n",
            "Epoch 28/100\n",
            "469/469 [==============================] - 5s 11ms/step - loss: 0.1402 - accuracy: 0.9497\n",
            "Epoch 29/100\n",
            "469/469 [==============================] - 6s 12ms/step - loss: 0.1398 - accuracy: 0.9497\n",
            "Epoch 30/100\n",
            "469/469 [==============================] - 5s 11ms/step - loss: 0.1369 - accuracy: 0.9506\n",
            "Epoch 31/100\n",
            "469/469 [==============================] - 5s 11ms/step - loss: 0.1310 - accuracy: 0.9526\n",
            "Epoch 32/100\n",
            "469/469 [==============================] - 5s 11ms/step - loss: 0.1310 - accuracy: 0.9527\n",
            "Epoch 33/100\n",
            "469/469 [==============================] - 5s 11ms/step - loss: 0.1292 - accuracy: 0.9538\n",
            "Epoch 34/100\n",
            "469/469 [==============================] - 5s 11ms/step - loss: 0.1246 - accuracy: 0.9550\n",
            "Epoch 35/100\n",
            "469/469 [==============================] - 5s 11ms/step - loss: 0.1223 - accuracy: 0.9557\n",
            "Epoch 36/100\n",
            "469/469 [==============================] - 5s 11ms/step - loss: 0.1217 - accuracy: 0.9578\n",
            "Epoch 37/100\n",
            "469/469 [==============================] - 5s 11ms/step - loss: 0.1190 - accuracy: 0.9581\n",
            "Epoch 38/100\n",
            "469/469 [==============================] - 6s 12ms/step - loss: 0.1171 - accuracy: 0.9580\n",
            "Epoch 39/100\n",
            "469/469 [==============================] - 5s 11ms/step - loss: 0.1109 - accuracy: 0.9598\n",
            "Epoch 40/100\n",
            "469/469 [==============================] - 5s 11ms/step - loss: 0.1141 - accuracy: 0.9599\n",
            "Epoch 41/100\n",
            "469/469 [==============================] - 5s 11ms/step - loss: 0.1103 - accuracy: 0.9610\n",
            "Epoch 42/100\n",
            "469/469 [==============================] - 5s 11ms/step - loss: 0.1084 - accuracy: 0.9614\n",
            "Epoch 43/100\n",
            "469/469 [==============================] - 5s 11ms/step - loss: 0.1062 - accuracy: 0.9634\n",
            "Epoch 44/100\n",
            "469/469 [==============================] - 5s 11ms/step - loss: 0.1074 - accuracy: 0.9628\n",
            "Epoch 45/100\n",
            "469/469 [==============================] - 5s 11ms/step - loss: 0.1037 - accuracy: 0.9638\n",
            "Epoch 46/100\n",
            "469/469 [==============================] - 5s 11ms/step - loss: 0.1004 - accuracy: 0.9645\n",
            "Epoch 47/100\n",
            "469/469 [==============================] - 7s 15ms/step - loss: 0.0986 - accuracy: 0.9652\n",
            "Epoch 48/100\n",
            "469/469 [==============================] - 5s 11ms/step - loss: 0.0955 - accuracy: 0.9659\n",
            "Epoch 49/100\n",
            "469/469 [==============================] - 5s 11ms/step - loss: 0.0939 - accuracy: 0.9663\n",
            "Epoch 50/100\n",
            "469/469 [==============================] - 5s 11ms/step - loss: 0.0955 - accuracy: 0.9671\n",
            "Epoch 51/100\n",
            "469/469 [==============================] - 5s 11ms/step - loss: 0.0922 - accuracy: 0.9680\n",
            "Epoch 52/100\n",
            "469/469 [==============================] - 5s 11ms/step - loss: 0.0905 - accuracy: 0.9683\n",
            "Epoch 53/100\n",
            "469/469 [==============================] - 5s 11ms/step - loss: 0.0887 - accuracy: 0.9693\n",
            "Epoch 54/100\n",
            "469/469 [==============================] - 5s 11ms/step - loss: 0.0915 - accuracy: 0.9694\n",
            "Epoch 55/100\n",
            "469/469 [==============================] - 5s 11ms/step - loss: 0.0912 - accuracy: 0.9696\n",
            "Epoch 56/100\n",
            "469/469 [==============================] - 5s 11ms/step - loss: 0.0906 - accuracy: 0.9697\n",
            "Epoch 57/100\n",
            "469/469 [==============================] - 5s 11ms/step - loss: 0.0842 - accuracy: 0.9715\n",
            "Epoch 58/100\n",
            "469/469 [==============================] - 5s 11ms/step - loss: 0.0823 - accuracy: 0.9718\n",
            "Epoch 59/100\n",
            "469/469 [==============================] - 5s 11ms/step - loss: 0.0816 - accuracy: 0.9722\n",
            "Epoch 60/100\n",
            "469/469 [==============================] - 5s 11ms/step - loss: 0.0793 - accuracy: 0.9728\n",
            "Epoch 61/100\n",
            "469/469 [==============================] - 6s 13ms/step - loss: 0.0818 - accuracy: 0.9721\n",
            "Epoch 62/100\n",
            "469/469 [==============================] - 6s 12ms/step - loss: 0.0783 - accuracy: 0.9736\n",
            "Epoch 63/100\n",
            "469/469 [==============================] - 14s 30ms/step - loss: 0.0805 - accuracy: 0.9728\n",
            "Epoch 64/100\n",
            "469/469 [==============================] - 8s 16ms/step - loss: 0.0797 - accuracy: 0.9733\n",
            "Epoch 65/100\n",
            "469/469 [==============================] - 6s 12ms/step - loss: 0.0771 - accuracy: 0.9742\n",
            "Epoch 66/100\n",
            "469/469 [==============================] - 5s 11ms/step - loss: 0.0761 - accuracy: 0.9750\n",
            "Epoch 67/100\n",
            "469/469 [==============================] - 5s 11ms/step - loss: 0.0760 - accuracy: 0.9749\n",
            "Epoch 68/100\n",
            "469/469 [==============================] - 5s 11ms/step - loss: 0.0736 - accuracy: 0.9761\n",
            "Epoch 69/100\n",
            "469/469 [==============================] - 5s 11ms/step - loss: 0.0742 - accuracy: 0.9754\n",
            "Epoch 70/100\n",
            "469/469 [==============================] - 5s 11ms/step - loss: 0.0718 - accuracy: 0.9766\n",
            "Epoch 71/100\n",
            "469/469 [==============================] - 5s 11ms/step - loss: 0.0743 - accuracy: 0.9756\n",
            "Epoch 72/100\n",
            "469/469 [==============================] - 5s 11ms/step - loss: 0.0709 - accuracy: 0.9766\n",
            "Epoch 73/100\n",
            "469/469 [==============================] - 5s 11ms/step - loss: 0.0701 - accuracy: 0.9770\n",
            "Epoch 74/100\n",
            "469/469 [==============================] - 5s 11ms/step - loss: 0.0687 - accuracy: 0.9779\n",
            "Epoch 75/100\n",
            "469/469 [==============================] - 5s 11ms/step - loss: 0.0709 - accuracy: 0.9769\n",
            "Epoch 76/100\n",
            "469/469 [==============================] - 5s 11ms/step - loss: 0.0670 - accuracy: 0.9768\n",
            "Epoch 77/100\n",
            "469/469 [==============================] - 5s 11ms/step - loss: 0.0680 - accuracy: 0.9778\n",
            "Epoch 78/100\n",
            "469/469 [==============================] - 5s 11ms/step - loss: 0.0652 - accuracy: 0.9790\n",
            "Epoch 79/100\n",
            "469/469 [==============================] - 5s 11ms/step - loss: 0.0640 - accuracy: 0.9793\n",
            "Epoch 80/100\n",
            "469/469 [==============================] - 5s 11ms/step - loss: 0.0672 - accuracy: 0.9784\n",
            "Epoch 81/100\n",
            "469/469 [==============================] - 5s 11ms/step - loss: 0.0649 - accuracy: 0.9788\n",
            "Epoch 82/100\n",
            "469/469 [==============================] - 5s 11ms/step - loss: 0.0648 - accuracy: 0.9781\n",
            "Epoch 83/100\n",
            "469/469 [==============================] - 5s 11ms/step - loss: 0.0650 - accuracy: 0.9791\n",
            "Epoch 84/100\n",
            "469/469 [==============================] - 5s 11ms/step - loss: 0.0634 - accuracy: 0.9792\n",
            "Epoch 85/100\n",
            "469/469 [==============================] - 6s 12ms/step - loss: 0.0644 - accuracy: 0.9800\n",
            "Epoch 86/100\n",
            "469/469 [==============================] - 9s 19ms/step - loss: 0.0629 - accuracy: 0.9800\n",
            "Epoch 87/100\n",
            "469/469 [==============================] - 10s 21ms/step - loss: 0.0627 - accuracy: 0.9808\n",
            "Epoch 88/100\n",
            "469/469 [==============================] - 9s 19ms/step - loss: 0.0636 - accuracy: 0.9801\n",
            "Epoch 89/100\n",
            "469/469 [==============================] - 8s 16ms/step - loss: 0.0601 - accuracy: 0.9813\n",
            "Epoch 90/100\n",
            "469/469 [==============================] - 5s 11ms/step - loss: 0.0569 - accuracy: 0.9820\n",
            "Epoch 91/100\n",
            "469/469 [==============================] - 5s 11ms/step - loss: 0.0563 - accuracy: 0.9827\n",
            "Epoch 92/100\n",
            "469/469 [==============================] - 5s 11ms/step - loss: 0.0576 - accuracy: 0.9820\n",
            "Epoch 93/100\n",
            "469/469 [==============================] - 5s 12ms/step - loss: 0.0581 - accuracy: 0.9821\n",
            "Epoch 94/100\n",
            "469/469 [==============================] - 8s 17ms/step - loss: 0.0545 - accuracy: 0.9823\n",
            "Epoch 95/100\n",
            "469/469 [==============================] - 6s 14ms/step - loss: 0.0583 - accuracy: 0.9820\n",
            "Epoch 96/100\n",
            "469/469 [==============================] - 6s 14ms/step - loss: 0.0563 - accuracy: 0.9818\n",
            "Epoch 97/100\n",
            "469/469 [==============================] - 8s 17ms/step - loss: 0.0545 - accuracy: 0.9830\n",
            "Epoch 98/100\n",
            "469/469 [==============================] - 9s 19ms/step - loss: 0.0574 - accuracy: 0.9821\n",
            "Epoch 99/100\n",
            "469/469 [==============================] - 9s 19ms/step - loss: 0.0555 - accuracy: 0.9832\n",
            "Epoch 100/100\n",
            "469/469 [==============================] - 7s 14ms/step - loss: 0.0527 - accuracy: 0.9828\n"
          ]
        },
        {
          "output_type": "execute_result",
          "data": {
            "text/plain": [
              "<keras.callbacks.History at 0x7f1115452710>"
            ]
          },
          "metadata": {},
          "execution_count": 8
        }
      ]
    },
    {
      "cell_type": "code",
      "source": [
        "test_loss, test_ace = model.evaluate(x_test, y_test)\n",
        "print('Test accuracy', test_ace)"
      ],
      "metadata": {
        "colab": {
          "base_uri": "https://localhost:8080/"
        },
        "id": "Ep_cDqdfNTGD",
        "outputId": "f39da39b-959e-4dc5-bd92-0281220ab938"
      },
      "execution_count": null,
      "outputs": [
        {
          "output_type": "stream",
          "name": "stdout",
          "text": [
            "313/313 [==============================] - 1s 3ms/step - loss: 1.1071 - accuracy: 0.8906\n",
            "Test accuracy 0.8906000256538391\n"
          ]
        }
      ]
    },
    {
      "cell_type": "code",
      "source": [
        "from tensorflow.python.ops.gen_array_ops import reshape\n",
        "from keras.utils import load_img, img_to_array\n",
        "import numpy as np\n",
        "\n",
        "img = load_img('áo.jpg', target_size=(28,28))\n",
        "plt.imshow(img)\n",
        "img = img_to_array(img)\n",
        "img = img.reshape(1,28,28,3)\n",
        "img = img.astype('float32')\n",
        "img = img/255"
      ],
      "metadata": {
        "colab": {
          "base_uri": "https://localhost:8080/",
          "height": 265
        },
        "id": "nkRy0eupX-Uw",
        "outputId": "adef444a-0725-4a53-b17a-a19a737b62a0"
      },
      "execution_count": null,
      "outputs": [
        {
          "output_type": "display_data",
          "data": {
            "text/plain": [
              "<Figure size 432x288 with 1 Axes>"
            ],
            "image/png": "[encoded data removed]"
          },
          "metadata": {
            "needs_background": "light"
          }
        }
      ]
    }
  ]
}